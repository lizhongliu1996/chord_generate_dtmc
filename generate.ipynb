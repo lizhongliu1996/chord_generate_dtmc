{
 "cells": [
  {
   "cell_type": "markdown",
   "metadata": {},
   "source": [
    "# 1.load data"
   ]
  },
  {
   "cell_type": "code",
   "execution_count": 2,
   "metadata": {},
   "outputs": [],
   "source": [
    "import numpy as np\n",
    "import pandas as pd\n",
    "from collections import Counter\n",
    "np.random.seed(24)\n",
    "\n",
    "# read file\n",
    "data = pd.read_csv(r'pop_music_chords.csv')"
   ]
  },
  {
   "cell_type": "code",
   "execution_count": 3,
   "metadata": {},
   "outputs": [
    {
     "data": {
      "text/html": [
       "<div>\n",
       "<style scoped>\n",
       "    .dataframe tbody tr th:only-of-type {\n",
       "        vertical-align: middle;\n",
       "    }\n",
       "\n",
       "    .dataframe tbody tr th {\n",
       "        vertical-align: top;\n",
       "    }\n",
       "\n",
       "    .dataframe thead th {\n",
       "        text-align: right;\n",
       "    }\n",
       "</style>\n",
       "<table border=\"1\" class=\"dataframe\">\n",
       "  <thead>\n",
       "    <tr style=\"text-align: right;\">\n",
       "      <th></th>\n",
       "      <th>X...</th>\n",
       "      <th>X.....</th>\n",
       "      <th>X.......</th>\n",
       "      <th>X......1</th>\n",
       "      <th>X......2</th>\n",
       "      <th>X....</th>\n",
       "      <th>X....1</th>\n",
       "      <th>X..</th>\n",
       "      <th>X....2</th>\n",
       "      <th>X.....1</th>\n",
       "    </tr>\n",
       "  </thead>\n",
       "  <tbody>\n",
       "    <tr>\n",
       "      <th>0</th>\n",
       "      <td>F</td>\n",
       "      <td>Am</td>\n",
       "      <td>C</td>\n",
       "      <td>C</td>\n",
       "      <td>C</td>\n",
       "      <td>Dm7</td>\n",
       "      <td>Am</td>\n",
       "      <td>Em</td>\n",
       "      <td>C</td>\n",
       "      <td>C</td>\n",
       "    </tr>\n",
       "    <tr>\n",
       "      <th>1</th>\n",
       "      <td>Em7</td>\n",
       "      <td>Em</td>\n",
       "      <td>Em</td>\n",
       "      <td>G/B</td>\n",
       "      <td>C/B</td>\n",
       "      <td>Am</td>\n",
       "      <td>F</td>\n",
       "      <td>D</td>\n",
       "      <td>Am</td>\n",
       "      <td>Em7</td>\n",
       "    </tr>\n",
       "    <tr>\n",
       "      <th>2</th>\n",
       "      <td>Dm</td>\n",
       "      <td>F</td>\n",
       "      <td>Am</td>\n",
       "      <td>Am</td>\n",
       "      <td>Am7</td>\n",
       "      <td>Dm7</td>\n",
       "      <td>G</td>\n",
       "      <td>C</td>\n",
       "      <td>F</td>\n",
       "      <td>Am7</td>\n",
       "    </tr>\n",
       "    <tr>\n",
       "      <th>3</th>\n",
       "      <td>C</td>\n",
       "      <td>G</td>\n",
       "      <td>F</td>\n",
       "      <td>Em</td>\n",
       "      <td>C/G</td>\n",
       "      <td>Am</td>\n",
       "      <td>C</td>\n",
       "      <td>G/B</td>\n",
       "      <td>G</td>\n",
       "      <td>Em/G</td>\n",
       "    </tr>\n",
       "    <tr>\n",
       "      <th>4</th>\n",
       "      <td>F</td>\n",
       "      <td>C</td>\n",
       "      <td>C</td>\n",
       "      <td>Fmaj7</td>\n",
       "      <td>C/F</td>\n",
       "      <td>F</td>\n",
       "      <td>Am</td>\n",
       "      <td>Am7</td>\n",
       "      <td>Em</td>\n",
       "      <td>C</td>\n",
       "    </tr>\n",
       "    <tr>\n",
       "      <th>5</th>\n",
       "      <td>Em7</td>\n",
       "      <td>G/B</td>\n",
       "      <td>Em</td>\n",
       "      <td>G</td>\n",
       "      <td>C/E</td>\n",
       "      <td>C</td>\n",
       "      <td>F</td>\n",
       "      <td>B7</td>\n",
       "      <td>Am</td>\n",
       "      <td>Em7</td>\n",
       "    </tr>\n",
       "    <tr>\n",
       "      <th>6</th>\n",
       "      <td>Dm</td>\n",
       "      <td>Am</td>\n",
       "      <td>Am</td>\n",
       "      <td>C</td>\n",
       "      <td>Dm7</td>\n",
       "      <td>Dm7</td>\n",
       "      <td>G</td>\n",
       "      <td>Em</td>\n",
       "      <td>F</td>\n",
       "      <td>F</td>\n",
       "    </tr>\n",
       "    <tr>\n",
       "      <th>7</th>\n",
       "      <td>C</td>\n",
       "      <td>Em</td>\n",
       "      <td>F</td>\n",
       "      <td>Am</td>\n",
       "      <td>G5</td>\n",
       "      <td>G</td>\n",
       "      <td>C</td>\n",
       "      <td>B7</td>\n",
       "      <td>G</td>\n",
       "      <td>G</td>\n",
       "    </tr>\n",
       "    <tr>\n",
       "      <th>8</th>\n",
       "      <td>C7</td>\n",
       "      <td>F</td>\n",
       "      <td>C</td>\n",
       "      <td>Dm7</td>\n",
       "      <td>C</td>\n",
       "      <td>Dm7</td>\n",
       "      <td>Am</td>\n",
       "      <td>Em</td>\n",
       "      <td>C</td>\n",
       "      <td>C</td>\n",
       "    </tr>\n",
       "    <tr>\n",
       "      <th>9</th>\n",
       "      <td>F</td>\n",
       "      <td>G</td>\n",
       "      <td>Em</td>\n",
       "      <td>Fmaj7</td>\n",
       "      <td>C/B</td>\n",
       "      <td>Am</td>\n",
       "      <td>F</td>\n",
       "      <td>D</td>\n",
       "      <td>Am</td>\n",
       "      <td>Em7</td>\n",
       "    </tr>\n",
       "    <tr>\n",
       "      <th>10</th>\n",
       "      <td>G</td>\n",
       "      <td>Am</td>\n",
       "      <td>Am</td>\n",
       "      <td>Gsus4</td>\n",
       "      <td>Am7</td>\n",
       "      <td>Dm7</td>\n",
       "      <td>G</td>\n",
       "      <td>C</td>\n",
       "      <td>F</td>\n",
       "      <td>Am7</td>\n",
       "    </tr>\n",
       "    <tr>\n",
       "      <th>11</th>\n",
       "      <td>Em</td>\n",
       "      <td>Em</td>\n",
       "      <td>F</td>\n",
       "      <td>G</td>\n",
       "      <td>C/G</td>\n",
       "      <td>Am</td>\n",
       "      <td>C</td>\n",
       "      <td>G/B</td>\n",
       "      <td>G</td>\n",
       "      <td>Em/G</td>\n",
       "    </tr>\n",
       "    <tr>\n",
       "      <th>12</th>\n",
       "      <td>Am</td>\n",
       "      <td>F</td>\n",
       "      <td>Dm7</td>\n",
       "      <td>C</td>\n",
       "      <td>C/F</td>\n",
       "      <td>F</td>\n",
       "      <td>Am</td>\n",
       "      <td>Am7</td>\n",
       "      <td>Em</td>\n",
       "      <td>C</td>\n",
       "    </tr>\n",
       "    <tr>\n",
       "      <th>13</th>\n",
       "      <td>Dm7</td>\n",
       "      <td>G</td>\n",
       "      <td>G</td>\n",
       "      <td>G/B</td>\n",
       "      <td>C/E</td>\n",
       "      <td>C</td>\n",
       "      <td>F</td>\n",
       "      <td>B7</td>\n",
       "      <td>Am</td>\n",
       "      <td>Em7</td>\n",
       "    </tr>\n",
       "    <tr>\n",
       "      <th>14</th>\n",
       "      <td>G</td>\n",
       "      <td>C</td>\n",
       "      <td>Dm7</td>\n",
       "      <td>Am</td>\n",
       "      <td>Dm7</td>\n",
       "      <td>Dm7</td>\n",
       "      <td>G</td>\n",
       "      <td>Em</td>\n",
       "      <td>F</td>\n",
       "      <td>F</td>\n",
       "    </tr>\n",
       "    <tr>\n",
       "      <th>15</th>\n",
       "      <td>C</td>\n",
       "      <td>G/B</td>\n",
       "      <td>G</td>\n",
       "      <td>Em</td>\n",
       "      <td>G5</td>\n",
       "      <td>G</td>\n",
       "      <td>G</td>\n",
       "      <td>Em</td>\n",
       "      <td>G</td>\n",
       "      <td>G</td>\n",
       "    </tr>\n",
       "  </tbody>\n",
       "</table>\n",
       "</div>"
      ],
      "text/plain": [
       "   X... X..... X....... X......1 X......2 X.... X....1  X.. X....2 X.....1\n",
       "0     F     Am        C        C        C   Dm7     Am   Em      C       C\n",
       "1   Em7     Em       Em      G/B      C/B    Am      F    D     Am     Em7\n",
       "2    Dm      F       Am       Am      Am7   Dm7      G    C      F     Am7\n",
       "3     C      G        F       Em      C/G    Am      C  G/B      G    Em/G\n",
       "4     F      C        C    Fmaj7      C/F     F     Am  Am7     Em       C\n",
       "5   Em7    G/B       Em        G      C/E     C      F   B7     Am     Em7\n",
       "6    Dm     Am       Am        C      Dm7   Dm7      G   Em      F       F\n",
       "7     C     Em        F       Am       G5     G      C   B7      G       G\n",
       "8    C7      F        C      Dm7        C   Dm7     Am   Em      C       C\n",
       "9     F      G       Em    Fmaj7      C/B    Am      F    D     Am     Em7\n",
       "10    G     Am       Am    Gsus4      Am7   Dm7      G    C      F     Am7\n",
       "11   Em     Em        F        G      C/G    Am      C  G/B      G    Em/G\n",
       "12   Am      F      Dm7        C      C/F     F     Am  Am7     Em       C\n",
       "13  Dm7      G        G      G/B      C/E     C      F   B7     Am     Em7\n",
       "14    G      C      Dm7       Am      Dm7   Dm7      G   Em      F       F\n",
       "15    C    G/B        G       Em       G5     G      G   Em      G       G"
      ]
     },
     "execution_count": 3,
     "metadata": {},
     "output_type": "execute_result"
    }
   ],
   "source": [
    "data.head(16)"
   ]
  },
  {
   "cell_type": "markdown",
   "metadata": {},
   "source": [
    "# 2.train test split"
   ]
  },
  {
   "cell_type": "code",
   "execution_count": 4,
   "metadata": {},
   "outputs": [
    {
     "data": {
      "text/plain": [
       "(47, 10)"
      ]
     },
     "execution_count": 4,
     "metadata": {},
     "output_type": "execute_result"
    }
   ],
   "source": [
    "data.shape"
   ]
  },
  {
   "cell_type": "code",
   "execution_count": 5,
   "metadata": {},
   "outputs": [],
   "source": [
    "n = 2\n",
    "progression = []\n",
    "for i in range(0,data.shape[1]):\n",
    "    chords=data.iloc[:,i].values\n",
    "    chords=chords[~pd.isna(chords)]\n",
    "    progression.append(chords)"
   ]
  },
  {
   "cell_type": "code",
   "execution_count": 6,
   "metadata": {},
   "outputs": [],
   "source": [
    " ####split into test and train\n",
    "from sklearn.model_selection import train_test_split\n",
    "train, test = train_test_split(progression, test_size=0.2, random_state=24)"
   ]
  },
  {
   "cell_type": "code",
   "execution_count": 7,
   "metadata": {},
   "outputs": [],
   "source": [
    "bigrams=[]\n",
    "for w in range(0,8):\n",
    "    ngrams = zip(*[train[w][i:] for i in range(n)])\n",
    "    rams = [\" \".join(ngram) for ngram in ngrams]\n",
    "    bigrams=np.hstack((bigrams,rams))\n",
    "\n",
    "bigrams=bigrams.tolist()"
   ]
  },
  {
   "cell_type": "code",
   "execution_count": 24,
   "metadata": {
    "scrolled": true
   },
   "outputs": [
    {
     "data": {
      "text/plain": [
       "'Am Dm7'"
      ]
     },
     "execution_count": 24,
     "metadata": {},
     "output_type": "execute_result"
    }
   ],
   "source": [
    "bigrams[1]"
   ]
  },
  {
   "cell_type": "markdown",
   "metadata": {},
   "source": [
    "# 3.Predict next state with Markov chain"
   ]
  },
  {
   "cell_type": "code",
   "execution_count": 13,
   "metadata": {},
   "outputs": [],
   "source": [
    "def predict_next_state(chord:str, data:list=bigrams):\n",
    "    \"\"\"Predict next chord based on current state.\"\"\"\n",
    "    # create list of bigrams which stats with current chord\n",
    "    bigrams_with_current_chord = [bigram for bigram in bigrams if bigram.split(' ')[0]==chord]\n",
    "    # count appearance of each bigram\n",
    "    count_appearance = dict(Counter(bigrams_with_current_chord))\n",
    "    # convert apperance into probabilities\n",
    "    for ngram in count_appearance.keys():\n",
    "        count_appearance[ngram] = count_appearance[ngram]/len(bigrams_with_current_chord)\n",
    "    # create list of possible options for the next chord\n",
    "    options = [key.split(' ')[1] for key in count_appearance.keys()]\n",
    "    # create  list of probability distribution\n",
    "    probabilities = list(count_appearance.values())\n",
    "    # return random prediction\n",
    "    return np.random.choice(options, p=probabilities)"
   ]
  },
  {
   "cell_type": "code",
   "execution_count": 25,
   "metadata": {},
   "outputs": [
    {
     "data": {
      "text/plain": [
       "'G/B'"
      ]
     },
     "execution_count": 25,
     "metadata": {},
     "output_type": "execute_result"
    }
   ],
   "source": [
    "predict_next_state(\"C\",bigrams)"
   ]
  },
  {
   "cell_type": "markdown",
   "metadata": {},
   "source": [
    "# 4.Generate sequence"
   ]
  },
  {
   "cell_type": "code",
   "execution_count": 21,
   "metadata": {},
   "outputs": [],
   "source": [
    "def generate_sequence(chord:str=None, data:list=bigrams, length:int=30):\n",
    "    \"\"\"Generate sequence of defined length.\"\"\"\n",
    "    # create list to store future chords\n",
    "    chords = []\n",
    "    for n in range(length):\n",
    "        # append next chord for the list\n",
    "        chords.append(predict_next_state(chord, bigrams))\n",
    "        # use last chord in sequence to predict next chord\n",
    "        chord = chords[-1]\n",
    "    return chords"
   ]
  },
  {
   "cell_type": "code",
   "execution_count": 22,
   "metadata": {
    "scrolled": true
   },
   "outputs": [
    {
     "data": {
      "text/plain": [
       "['G',\n",
       " 'Em',\n",
       " 'Am',\n",
       " 'F',\n",
       " 'G',\n",
       " 'C',\n",
       " 'Am',\n",
       " 'F',\n",
       " 'C/E',\n",
       " 'Am7',\n",
       " 'B7',\n",
       " 'Em',\n",
       " 'Fmaj7',\n",
       " 'C/E',\n",
       " 'Bb',\n",
       " 'F/A',\n",
       " 'G',\n",
       " 'C',\n",
       " 'Dm7',\n",
       " 'Am',\n",
       " 'Fm',\n",
       " 'G',\n",
       " 'C',\n",
       " 'C/B',\n",
       " 'Am7',\n",
       " 'B7',\n",
       " 'Em',\n",
       " 'Am',\n",
       " 'G',\n",
       " 'Am']"
      ]
     },
     "execution_count": 22,
     "metadata": {},
     "output_type": "execute_result"
    }
   ],
   "source": [
    "generate_sequence('F')"
   ]
  },
  {
   "cell_type": "markdown",
   "metadata": {},
   "source": [
    "# 5.evaluate generation"
   ]
  },
  {
   "cell_type": "code",
   "execution_count": 26,
   "metadata": {},
   "outputs": [],
   "source": [
    "import math\n",
    "import sys\n",
    "from fractions import Fraction\n",
    "import warnings\n",
    "from collections import Counter\n",
    "from nltk.util import ngrams\n",
    "from nltk.translate.bleu_score import sentence_bleu\n",
    "def closest_ref_length(references, hyp_len):\n",
    "    ref_lens = (len(reference) for reference in references)\n",
    "    closest_ref_len = min(\n",
    "        ref_lens, key=lambda ref_len: (abs(ref_len - hyp_len), ref_len)\n",
    "    )\n",
    "    return closest_ref_len\n",
    "def brevity_penalty(closest_ref_len, hyp_len):\n",
    "    if hyp_len > closest_ref_len:\n",
    "            return 1\n",
    "        # If hypothesis is empty, brevity penalty = 0 should result in BLEU = 0.0\n",
    "    elif hyp_len == 0:\n",
    "            return 0\n",
    "    else:\n",
    "            return math.exp(1 - closest_ref_len / hyp_len)\n",
    "\n",
    "def generate_combined(l,start):\n",
    "    result=[]\n",
    "    for i in range(0,len(start)):\n",
    "        a=generate_sequence(start[i],bigrams,l)\n",
    "        result.append(a)\n",
    "    for i in range(0,len(start)):\n",
    "        result[i].insert(0, start[i])\n",
    "    return result"
   ]
  },
  {
   "cell_type": "code",
   "execution_count": 29,
   "metadata": {},
   "outputs": [
    {
     "data": {
      "text/plain": [
       "[['C',\n",
       "  'G/B',\n",
       "  'Am',\n",
       "  'Fm',\n",
       "  'G',\n",
       "  'C',\n",
       "  'Am',\n",
       "  'Dm7',\n",
       "  'G',\n",
       "  'Am',\n",
       "  'Dm7',\n",
       "  'Am',\n",
       "  'Dm7',\n",
       "  'G',\n",
       "  'C',\n",
       "  'F',\n",
       "  'Em7',\n",
       "  'Am7',\n",
       "  'Dm7',\n",
       "  'Am',\n",
       "  'F']]"
      ]
     },
     "execution_count": 29,
     "metadata": {},
     "output_type": "execute_result"
    }
   ],
   "source": [
    "generate_combined(20,\"C\")"
   ]
  },
  {
   "cell_type": "code",
   "execution_count": 30,
   "metadata": {},
   "outputs": [
    {
     "data": {
      "text/plain": [
       "[['C',\n",
       "  'G/B',\n",
       "  'Am7',\n",
       "  'B7',\n",
       "  'Em',\n",
       "  'Em',\n",
       "  'Fmaj7',\n",
       "  'G',\n",
       "  'C',\n",
       "  'Am',\n",
       "  'Dm7',\n",
       "  'Am',\n",
       "  'Em',\n",
       "  'Em',\n",
       "  'Dm',\n",
       "  'C',\n",
       "  'Am',\n",
       "  'F',\n",
       "  'C',\n",
       "  'Em',\n",
       "  'Em',\n",
       "  'Dm',\n",
       "  'C',\n",
       "  'Em7',\n",
       "  'Dm',\n",
       "  'C',\n",
       "  'G/B',\n",
       "  'Am',\n",
       "  'Fm',\n",
       "  'Gsus4',\n",
       "  'G']]"
      ]
     },
     "execution_count": 30,
     "metadata": {},
     "output_type": "execute_result"
    }
   ],
   "source": [
    "generate_combined(30,\"C\")"
   ]
  },
  {
   "cell_type": "code",
   "execution_count": 31,
   "metadata": {},
   "outputs": [
    {
     "data": {
      "text/plain": [
       "[['C',\n",
       "  'C7',\n",
       "  'Fmaj7',\n",
       "  'Gsus4',\n",
       "  'G',\n",
       "  'Em',\n",
       "  'Em',\n",
       "  'Am',\n",
       "  'Dm7',\n",
       "  'Am',\n",
       "  'F',\n",
       "  'Em',\n",
       "  'Am',\n",
       "  'F',\n",
       "  'G',\n",
       "  'C',\n",
       "  'C/B',\n",
       "  'Am7',\n",
       "  'Em/G',\n",
       "  'C',\n",
       "  'Am',\n",
       "  'F',\n",
       "  'G',\n",
       "  'Gm',\n",
       "  'F',\n",
       "  'Dm7',\n",
       "  'G',\n",
       "  'C',\n",
       "  'G/B',\n",
       "  'Am7',\n",
       "  'C/G',\n",
       "  'C/F',\n",
       "  'C/E',\n",
       "  'Bb',\n",
       "  'F/A',\n",
       "  'G',\n",
       "  'C',\n",
       "  'Em7',\n",
       "  'Am7',\n",
       "  'C/G',\n",
       "  'C/F']]"
      ]
     },
     "execution_count": 31,
     "metadata": {},
     "output_type": "execute_result"
    }
   ],
   "source": [
    "generate_combined(40,\"C\")"
   ]
  },
  {
   "cell_type": "code",
   "execution_count": 32,
   "metadata": {},
   "outputs": [
    {
     "data": {
      "text/plain": [
       "[['F',\n",
       "  'G',\n",
       "  'C',\n",
       "  'Am',\n",
       "  'Dm7',\n",
       "  'G',\n",
       "  'C',\n",
       "  'Am',\n",
       "  'F',\n",
       "  'Dm7',\n",
       "  'Am',\n",
       "  'Fm',\n",
       "  'G',\n",
       "  'C',\n",
       "  'Am',\n",
       "  'F',\n",
       "  'Em7',\n",
       "  'F',\n",
       "  'G',\n",
       "  'C',\n",
       "  'G/B']]"
      ]
     },
     "execution_count": 32,
     "metadata": {},
     "output_type": "execute_result"
    }
   ],
   "source": [
    "generate_combined(20,\"F\")"
   ]
  },
  {
   "cell_type": "code",
   "execution_count": 33,
   "metadata": {},
   "outputs": [
    {
     "data": {
      "text/plain": [
       "[['F',\n",
       "  'G',\n",
       "  'C',\n",
       "  'Em7',\n",
       "  'Dm',\n",
       "  'C',\n",
       "  'Dm7',\n",
       "  'C/E',\n",
       "  'Dm7',\n",
       "  'G',\n",
       "  'Dm7',\n",
       "  'G',\n",
       "  'C',\n",
       "  'Am',\n",
       "  'F',\n",
       "  'G',\n",
       "  'C',\n",
       "  'Em7',\n",
       "  'Dm',\n",
       "  'C',\n",
       "  'Am',\n",
       "  'F',\n",
       "  'G',\n",
       "  'C',\n",
       "  'Dm7',\n",
       "  'G',\n",
       "  'C',\n",
       "  'Em7',\n",
       "  'Dm',\n",
       "  'C',\n",
       "  'Dm7']]"
      ]
     },
     "execution_count": 33,
     "metadata": {},
     "output_type": "execute_result"
    }
   ],
   "source": [
    "generate_combined(30,\"F\")"
   ]
  },
  {
   "cell_type": "code",
   "execution_count": 34,
   "metadata": {},
   "outputs": [
    {
     "data": {
      "text/plain": [
       "[['F',\n",
       "  'C',\n",
       "  'Dm7',\n",
       "  'G',\n",
       "  'Am',\n",
       "  'F',\n",
       "  'G',\n",
       "  'G',\n",
       "  'Dm7',\n",
       "  'G',\n",
       "  'C',\n",
       "  'Em',\n",
       "  'Fmaj7',\n",
       "  'Gsus4',\n",
       "  'G',\n",
       "  'C',\n",
       "  'Am',\n",
       "  'Em',\n",
       "  'Fmaj7',\n",
       "  'G',\n",
       "  'C',\n",
       "  'Am',\n",
       "  'F',\n",
       "  'G',\n",
       "  'C',\n",
       "  'Fmaj7',\n",
       "  'G',\n",
       "  'C',\n",
       "  'C/B',\n",
       "  'Am7',\n",
       "  'Gm7',\n",
       "  'C7',\n",
       "  'Fmaj7',\n",
       "  'G',\n",
       "  'F',\n",
       "  'G',\n",
       "  'C',\n",
       "  'Fmaj7',\n",
       "  'C/E',\n",
       "  'Dm7',\n",
       "  'G']]"
      ]
     },
     "execution_count": 34,
     "metadata": {},
     "output_type": "execute_result"
    }
   ],
   "source": [
    "generate_combined(40,\"F\")"
   ]
  },
  {
   "cell_type": "code",
   "execution_count": 27,
   "metadata": {},
   "outputs": [
    {
     "name": "stdout",
     "output_type": "stream",
     "text": [
      "6.08970970641905e-155\n",
      "(0, 0, 0, 0.5, 0, 0, 0, 0.5)\n",
      "20\n",
      "C\n",
      "6.08970970641905e-155\n",
      "(0, 0, 0, 0.5, 0, 0, 0, 0.5)\n",
      "20\n",
      "F\n",
      "0.36064732832591173\n",
      "(0.25, 0.25, 0.25, 0.25)\n",
      "20\n",
      "C\n",
      "0.39788427553162475\n",
      "(0.25, 0.25, 0.25, 0.25)\n",
      "20\n",
      "F\n",
      "2.2250738585072626e-308\n",
      "(0, 0, 0, 0, 0, 0, 0, 1)\n",
      "20\n",
      "C\n",
      "2.2250738585072626e-308\n",
      "(0, 0, 0, 0, 0, 0, 0, 1)\n",
      "20\n",
      "F\n",
      "0.16666666666666669\n",
      "(0, 0, 0, 1)\n",
      "20\n",
      "C\n",
      "0.16666666666666669\n",
      "(0, 0, 0, 1)\n",
      "20\n",
      "F\n",
      "0.7142857142857143\n",
      "(1, 0, 0, 0)\n",
      "20\n",
      "C\n",
      "0.9523809523809523\n",
      "(1, 0, 0, 0)\n",
      "20\n",
      "F\n",
      "3.9866508128531494e-155\n",
      "(0, 0, 0, 0.5, 0, 0, 0, 0.5)\n",
      "30\n",
      "C\n",
      "6.303448402188771e-155\n",
      "(0, 0, 0, 0.5, 0, 0, 0, 0.5)\n",
      "30\n",
      "F\n",
      "0.2089685256289425\n",
      "(0.25, 0.25, 0.25, 0.25)\n",
      "30\n",
      "C\n",
      "0.4493946880757933\n",
      "(0.25, 0.25, 0.25, 0.25)\n",
      "30\n",
      "F\n",
      "2.2250738585072626e-308\n",
      "(0, 0, 0, 0, 0, 0, 0, 1)\n",
      "30\n",
      "C\n",
      "2.2250738585072626e-308\n",
      "(0, 0, 0, 0, 0, 0, 0, 1)\n",
      "30\n",
      "F\n",
      "0.07142857142857141\n",
      "(0, 0, 0, 1)\n",
      "30\n",
      "C\n",
      "0.17857142857142858\n",
      "(0, 0, 0, 1)\n",
      "30\n",
      "F\n",
      "0.5806451612903226\n",
      "(1, 0, 0, 0)\n",
      "30\n",
      "C\n",
      "0.9032258064516129\n",
      "(1, 0, 0, 0)\n",
      "30\n",
      "F\n",
      "0.11470786693528089\n",
      "(0, 0, 0, 0.5, 0, 0, 0, 0.5)\n",
      "40\n",
      "C\n",
      "4.839610530770974e-155\n",
      "(0, 0, 0, 0.5, 0, 0, 0, 0.5)\n",
      "40\n",
      "F\n",
      "0.5885976696128644\n",
      "(0.25, 0.25, 0.25, 0.25)\n",
      "40\n",
      "C\n",
      "0.3321103990577487\n",
      "(0.25, 0.25, 0.25, 0.25)\n",
      "40\n",
      "F\n",
      "0.02941176470588235\n",
      "(0, 0, 0, 0, 0, 0, 0, 1)\n",
      "40\n",
      "C\n",
      "2.2250738585072626e-308\n",
      "(0, 0, 0, 0, 0, 0, 0, 1)\n",
      "40\n",
      "F\n",
      "0.4473684210526316\n",
      "(0, 0, 0, 1)\n",
      "40\n",
      "C\n",
      "0.10526315789473681\n",
      "(0, 0, 0, 1)\n",
      "40\n",
      "F\n",
      "0.8048780487804879\n",
      "(1, 0, 0, 0)\n",
      "40\n",
      "C\n",
      "0.7804878048780488\n",
      "(1, 0, 0, 0)\n",
      "40\n",
      "F\n"
     ]
    },
    {
     "name": "stderr",
     "output_type": "stream",
     "text": [
      "C:\\Users\\73707\\Anaconda3\\lib\\site-packages\\nltk\\translate\\bleu_score.py:523: UserWarning: \n",
      "The hypothesis contains 0 counts of 6-gram overlaps.\n",
      "Therefore the BLEU score evaluates to 0, independently of\n",
      "how many N-gram overlaps of lower order it contains.\n",
      "Consider using lower n-gram order or use SmoothingFunction()\n",
      "  warnings.warn(_msg)\n",
      "C:\\Users\\73707\\Anaconda3\\lib\\site-packages\\nltk\\translate\\bleu_score.py:523: UserWarning: \n",
      "The hypothesis contains 0 counts of 7-gram overlaps.\n",
      "Therefore the BLEU score evaluates to 0, independently of\n",
      "how many N-gram overlaps of lower order it contains.\n",
      "Consider using lower n-gram order or use SmoothingFunction()\n",
      "  warnings.warn(_msg)\n",
      "C:\\Users\\73707\\Anaconda3\\lib\\site-packages\\nltk\\translate\\bleu_score.py:523: UserWarning: \n",
      "The hypothesis contains 0 counts of 8-gram overlaps.\n",
      "Therefore the BLEU score evaluates to 0, independently of\n",
      "how many N-gram overlaps of lower order it contains.\n",
      "Consider using lower n-gram order or use SmoothingFunction()\n",
      "  warnings.warn(_msg)\n"
     ]
    }
   ],
   "source": [
    "reference1 = test[0]\n",
    "reference2 = test[1]\n",
    "references = [reference1, reference2]\n",
    "\n",
    "weights=[(0,0,0,0.5,0,0,0,0.5),(0.25,0.25,0.25,0.25),(0,0,0,0,0,0,0,1),(0,0,0,1),(1,0,0,0)]\n",
    "leng=[20,30,40]\n",
    "start=['C','F']\n",
    "for l in leng:\n",
    "    result=generate_combined(l,start)\n",
    "    for w in range(0,len(weights)):\n",
    "       for i in range(0,len(start)):\n",
    "            hypothesis1 = np.array(result[i])\n",
    "            score=sentence_bleu(references, hypothesis1, weights[w])\n",
    "            hyp_len = len(hypothesis1)\n",
    "            closest_ref_len=closest_ref_length(references, hyp_len)\n",
    "            bp=brevity_penalty(closest_ref_len, hyp_len)\n",
    "            print(score/bp)\n",
    "            print(weights[w])\n",
    "            print(l)\n",
    "            print(start[i])"
   ]
  }
 ],
 "metadata": {
  "kernelspec": {
   "display_name": "Python 3",
   "language": "python",
   "name": "python3"
  },
  "language_info": {
   "codemirror_mode": {
    "name": "ipython",
    "version": 3
   },
   "file_extension": ".py",
   "mimetype": "text/x-python",
   "name": "python",
   "nbconvert_exporter": "python",
   "pygments_lexer": "ipython3",
   "version": "3.7.3"
  }
 },
 "nbformat": 4,
 "nbformat_minor": 2
}
